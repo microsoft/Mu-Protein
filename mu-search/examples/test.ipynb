{
 "cells": [
  {
   "cell_type": "code",
   "execution_count": 1,
   "metadata": {},
   "outputs": [
    {
     "name": "stderr",
     "output_type": "stream",
     "text": [
      "2025-02-03 15:34:10.613706: W tensorflow/stream_executor/platform/default/dso_loader.cc:59] Could not load dynamic library 'libcudart.so.10.1'; dlerror: libcudart.so.10.1: cannot open shared object file: No such file or directory\n",
      "2025-02-03 15:34:10.613763: I tensorflow/stream_executor/cuda/cudart_stub.cc:29] Ignore above cudart dlerror if you do not have a GPU set up on your machine.\n",
      "/home/v-zhaozhiyu/miniconda3/envs/FLEXS/lib/python3.7/site-packages/tqdm/auto.py:21: TqdmWarning: IProgress not found. Please update jupyter and ipywidgets. See https://ipywidgets.readthedocs.io/en/stable/user_install.html\n",
      "  from .autonotebook import tqdm as notebook_tqdm\n"
     ]
    }
   ],
   "source": [
    "import editdistance\n",
    "import matplotlib.pyplot as plt\n",
    "import seaborn as sns\n",
    "import pandas as pd\n",
    "import pprint\n",
    "import numpy as np\n",
    "import json\n",
    "import flexs\n",
    "from flexs import baselines\n",
    "import flexs.landscapes.additive_aav_packaging\n",
    "import flexs.utils.sequence_utils as s_utils\n",
    "import argparse\n",
    "import datetime"
   ]
  },
  {
   "cell_type": "code",
   "execution_count": 2,
   "metadata": {},
   "outputs": [
    {
     "name": "stdout",
     "output_type": "stream",
     "text": [
      "[ INFO ] MSA feat: \t [False]\n",
      "[ INFO ] Hidden size: \t [256]\n",
      "[ INFO ] Dropout: \t [0.1]\n",
      "[ INFO ] Decoder: \t [mono]\n",
      "[ INFO ] Vocab size: \t [-1]\n",
      "[ INFO ] Joint mode: \t [True]\n",
      "Landscape initialization: Loading Muformer model from /home/v-zhaozhiyu/code/FLEXS/src/flexs/flexs/landscapes/landscape/muformer/muformer-l-BLAT_ECOLX_Ranganathan2015_CFX.pt\n",
      "WT fitness: [-0.07268441]\n",
      "Number of ESBL sequences: 104\n",
      "Median of ESBL fitness: -0.06463484466075897\n",
      "Std of ESBL fitness: 0.02741074375808239\n",
      "Landscape initialization: Done\n"
     ]
    }
   ],
   "source": [
    "landscape = flexs.landscapes.MuformerLandscape()\n",
    "landscape_model = flexs.LandscapeAsModel(landscape)"
   ]
  },
  {
   "cell_type": "code",
   "execution_count": 3,
   "metadata": {},
   "outputs": [
    {
     "name": "stdout",
     "output_type": "stream",
     "text": [
      "feat1: {'glob_feat': tensor([[ 0, 16, 19, 13,  9, 12, 17,  5, 23,  4, 14, 13, 18, 17, 17,  4,  4, 17,\n",
      "          8, 14, 18, 23, 17,  4, 12, 18, 10, 20, 14, 23, 15, 23, 15,  7,  4, 10,\n",
      "          7,  9, 14, 11,  4,  5, 23, 11, 22, 13, 10, 14,  7, 14,  6, 19, 11, 15,\n",
      "         13, 14, 10, 19, 17,  5, 18, 10, 10,  5, 17, 18, 16, 16, 19, 20, 17, 15,\n",
      "         23, 14, 14,  8, 11,  4, 23, 14, 19,  5, 23,  7,  4, 11,  9, 10,  9, 10,\n",
      "         11,  5,  5, 13, 12, 22, 19,  9,  6,  7, 14, 23, 10, 22, 19, 18, 23, 20,\n",
      "         10, 15, 12, 14, 20,  7, 11, 16, 20, 23,  5, 10, 14,  8, 19,  4,  4, 13,\n",
      "         20, 16, 19,  7,  6, 20,  4,  4,  6, 14, 14, 14, 20, 20, 13, 11, 11, 18,\n",
      "         15, 10, 14, 20,  4, 17, 14, 12,  6, 16, 11,  7, 12, 23, 20,  5, 14,  7,\n",
      "          5, 21, 10, 18, 10, 14,  6, 10,  7, 13, 18,  6,  7, 10,  5,  7, 20, 20,\n",
      "         16, 18,  4,  4, 16,  4, 20, 20, 14,  5, 15, 14,  6, 20, 11, 10, 14, 14,\n",
      "         20, 14,  4, 19,  5,  9,  9, 14, 13,  7, 21, 16, 10,  4,  7, 15, 23,  4,\n",
      "         11, 18, 14, 14,  5, 19,  4, 14, 18,  4, 11, 21, 17,  9,  4,  7, 15, 19,\n",
      "         11,  4, 11, 10,  5, 11, 19,  5, 11, 13, 13,  4,  4, 14, 11, 18,  7, 11,\n",
      "         15, 18, 19,  5, 13, 23, 23, 13, 22, 20, 20, 11, 19,  9,  4, 20, 16, 20,\n",
      "         10,  5,  6,  5,  9, 13,  4, 10, 13, 11,  4, 19, 14, 13, 15, 12, 21,  2]]), 'glob_mask': tensor([[1, 1, 1, 1, 1, 1, 1, 1, 1, 1, 1, 1, 1, 1, 1, 1, 1, 1, 1, 1, 1, 1, 1, 1,\n",
      "         1, 1, 1, 1, 1, 1, 1, 1, 1, 1, 1, 1, 1, 1, 1, 1, 1, 1, 1, 1, 1, 1, 1, 1,\n",
      "         1, 1, 1, 1, 1, 1, 1, 1, 1, 1, 1, 1, 1, 1, 1, 1, 1, 1, 1, 1, 1, 1, 1, 1,\n",
      "         1, 1, 1, 1, 1, 1, 1, 1, 1, 1, 1, 1, 1, 1, 1, 1, 1, 1, 1, 1, 1, 1, 1, 1,\n",
      "         1, 1, 1, 1, 1, 1, 1, 1, 1, 1, 1, 1, 1, 1, 1, 1, 1, 1, 1, 1, 1, 1, 1, 1,\n",
      "         1, 1, 1, 1, 1, 1, 1, 1, 1, 1, 1, 1, 1, 1, 1, 1, 1, 1, 1, 1, 1, 1, 1, 1,\n",
      "         1, 1, 1, 1, 1, 1, 1, 1, 1, 1, 1, 1, 1, 1, 1, 1, 1, 1, 1, 1, 1, 1, 1, 1,\n",
      "         1, 1, 1, 1, 1, 1, 1, 1, 1, 1, 1, 1, 1, 1, 1, 1, 1, 1, 1, 1, 1, 1, 1, 1,\n",
      "         1, 1, 1, 1, 1, 1, 1, 1, 1, 1, 1, 1, 1, 1, 1, 1, 1, 1, 1, 1, 1, 1, 1, 1,\n",
      "         1, 1, 1, 1, 1, 1, 1, 1, 1, 1, 1, 1, 1, 1, 1, 1, 1, 1, 1, 1, 1, 1, 1, 1,\n",
      "         1, 1, 1, 1, 1, 1, 1, 1, 1, 1, 1, 1, 1, 1, 1, 1, 1, 1, 1, 1, 1, 1, 1, 1,\n",
      "         1, 1, 1, 1, 1, 1, 1, 1, 1, 1, 1, 1, 1, 1, 1, 1, 1, 1, 1, 1, 1, 1, 1, 1]])}\n"
     ]
    }
   ],
   "source": [
    "seq = \"MSIQHFRVALIPFFAAFCLPVFAHPETLVKVKDAEDQLGARVGYIELDLNSGKILESFRPEERFPMMSTFKVLLCGAVLSRVDAGQEQEGRRIHYSQNDLVEYSPVTEKHLTDGMTVRELCSAAITMSDNTAANLLLTTIGGPKELTAFLHNMGDHVTRLDRWEPELNEDIPNDERDTTMPAAMATTLRKLNTGELLTLASRQQLIDWMEADKVAGPLLRSALPAGWFQADKSGAGERGSRGIIAALGPDGKPSRIVVIYTTGSQATMTERNRQIAEIGASLIKHW\"\n",
    "landscape_model.get_fitness([seq])\n",
    "landscape_model.gradient_function([seq])\n",
    "# ssq = landscape.starting_sequence\n",
    "# print(seq)\n",
    "# print(ssq)\n",
    "# for i in range(len(seq)):\n",
    "#     if seq[i] != ssq[i]:\n",
    "#         print(i, seq[i], ssq[i])"
   ]
  },
  {
   "cell_type": "code",
   "execution_count": null,
   "metadata": {},
   "outputs": [],
   "source": []
  },
  {
   "cell_type": "code",
   "execution_count": 5,
   "metadata": {},
   "outputs": [
    {
     "data": {
      "text/plain": [
       "'cuda'"
      ]
     },
     "execution_count": 5,
     "metadata": {},
     "output_type": "execute_result"
    }
   ],
   "source": [
    "landscape.device"
   ]
  },
  {
   "cell_type": "code",
   "execution_count": null,
   "metadata": {},
   "outputs": [],
   "source": []
  }
 ],
 "metadata": {
  "kernelspec": {
   "display_name": "FLEXS",
   "language": "python",
   "name": "python3"
  },
  "language_info": {
   "codemirror_mode": {
    "name": "ipython",
    "version": 3
   },
   "file_extension": ".py",
   "mimetype": "text/x-python",
   "name": "python",
   "nbconvert_exporter": "python",
   "pygments_lexer": "ipython3",
   "version": "3.7.12"
  }
 },
 "nbformat": 4,
 "nbformat_minor": 2
}
